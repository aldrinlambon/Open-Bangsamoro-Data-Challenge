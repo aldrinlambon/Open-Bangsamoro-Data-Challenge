{
 "cells": [
  {
   "cell_type": "code",
   "execution_count": 1,
   "metadata": {},
   "outputs": [
    {
     "name": "stderr",
     "output_type": "stream",
     "text": [
      "c:\\users\\aldrin\\desktop\\pyprojects\\testenv\\lib\\site-packages\\pysal\\explore\\segregation\\network\\network.py:16: UserWarning: You need pandana and urbanaccess to work with segregation's network module\n",
      "You can install them with  `pip install urbanaccess pandana` or `conda install -c udst pandana urbanaccess`\n",
      "  \"You need pandana and urbanaccess to work with segregation's network module\\n\"\n",
      "c:\\users\\aldrin\\desktop\\pyprojects\\testenv\\lib\\site-packages\\pysal\\model\\spvcm\\abstracts.py:10: UserWarning: The `dill` module is required to use the sqlite backend fully.\n",
      "  from .sqlite import head_to_sql, start_sql\n"
     ]
    }
   ],
   "source": [
    "import numpy as np\n",
    "import pandas as pd\n",
    "import geopandas as gpd\n",
    "import matplotlib.pyplot as plt\n",
    "from matplotlib import colors\n",
    "import pysal.lib as lps\n",
    "import pysal.explore.esda as esda\n",
    "\n",
    "import warnings\n",
    "warnings.filterwarnings('ignore')\n",
    "\n",
    "np.random.seed(0)"
   ]
  },
  {
   "cell_type": "code",
   "execution_count": 2,
   "metadata": {},
   "outputs": [],
   "source": [
    "def moran_scatterplot(y,lag_val):\n",
    "    b, a = np.polyfit(y, lag_val, 1)\n",
    "    f, ax = plt.subplots(1, figsize=(9, 9))\n",
    "    plt.scatter(y, lag_val)\n",
    "    plt.vlines(y.mean(), lag_val.min(), lag_val.max(), linestyle='--')\n",
    "    plt.hlines(lag_val.mean(), y.min(), y.max(), linestyle='--')\n",
    "    plt.plot(y, a + b*y, 'r')\n",
    "    plt.title('Moran Scatterplot')\n",
    "    plt.ylabel('Spatial Lag')\n",
    "    plt.xlabel('Variable')\n",
    "    plt.show()\n",
    "    \n",
    "def calculate_cluster(y,wq,not_island):\n",
    "    li = esda.moran.Moran_Local(y, wq)\n",
    "    sig = 1 * (li.p_sim < 0.05) * not_island\n",
    "    hotspot = 1 * (sig * li.q==1)\n",
    "    coldspot = 3 * (sig * li.q==3)\n",
    "    lowoutlier = 2 * (sig * li.q==2)\n",
    "    highoutlier = 4 * (sig * li.q==4)\n",
    "    spots = hotspot + coldspot + lowoutlier + highoutlier\n",
    "    return spots\n",
    "\n",
    "def plot_cluster_map(df):\n",
    "    hmap = colors.ListedColormap([ 'lightgrey', 'red', 'lightblue', 'blue', 'pink'])\n",
    "    fig, ax = plt.subplots(1, figsize=(9, 9))\n",
    "    df.assign(cl=labels).plot(column='cl', categorical=True, \\\n",
    "                              k=2, cmap=hmap, linewidth=0.1, ax=ax, \\\n",
    "                              edgecolor='white',  legend=True,\n",
    "                              legend_kwds={'loc': 'lower right'})\n",
    "    plt.show()"
   ]
  },
  {
   "cell_type": "code",
   "execution_count": 3,
   "metadata": {},
   "outputs": [
    {
     "name": "stdout",
     "output_type": "stream",
     "text": [
      "(2721, 2)\n"
     ]
    },
    {
     "data": {
      "text/html": [
       "<div>\n",
       "<style scoped>\n",
       "    .dataframe tbody tr th:only-of-type {\n",
       "        vertical-align: middle;\n",
       "    }\n",
       "\n",
       "    .dataframe tbody tr th {\n",
       "        vertical-align: top;\n",
       "    }\n",
       "\n",
       "    .dataframe thead th {\n",
       "        text-align: right;\n",
       "    }\n",
       "</style>\n",
       "<table border=\"1\" class=\"dataframe\">\n",
       "  <thead>\n",
       "    <tr style=\"text-align: right;\">\n",
       "      <th></th>\n",
       "      <th>Bgy_Code</th>\n",
       "      <th>Pop2015</th>\n",
       "    </tr>\n",
       "  </thead>\n",
       "  <tbody>\n",
       "    <tr>\n",
       "      <th>0</th>\n",
       "      <td>PH150702001</td>\n",
       "      <td>672</td>\n",
       "    </tr>\n",
       "    <tr>\n",
       "      <th>1</th>\n",
       "      <td>PH150702002</td>\n",
       "      <td>1255</td>\n",
       "    </tr>\n",
       "    <tr>\n",
       "      <th>2</th>\n",
       "      <td>PH150702004</td>\n",
       "      <td>500</td>\n",
       "    </tr>\n",
       "    <tr>\n",
       "      <th>3</th>\n",
       "      <td>PH150702005</td>\n",
       "      <td>2359</td>\n",
       "    </tr>\n",
       "    <tr>\n",
       "      <th>4</th>\n",
       "      <td>PH150702006</td>\n",
       "      <td>2918</td>\n",
       "    </tr>\n",
       "  </tbody>\n",
       "</table>\n",
       "</div>"
      ],
      "text/plain": [
       "      Bgy_Code  Pop2015\n",
       "0  PH150702001      672\n",
       "1  PH150702002     1255\n",
       "2  PH150702004      500\n",
       "3  PH150702005     2359\n",
       "4  PH150702006     2918"
      ]
     },
     "execution_count": 3,
     "metadata": {},
     "output_type": "execute_result"
    }
   ],
   "source": [
    "pop_df = pd.read_excel('data/Population 2010, 2015 ARMM,BCT.xlsx',\n",
    "                       usecols=['PSGC_BRGY','Pop2015'])\n",
    "pop_df = pop_df.rename(columns={'PSGC_BRGY':'Bgy_Code'})\n",
    "print(pop_df.shape)\n",
    "pop_df.head()"
   ]
  },
  {
   "cell_type": "code",
   "execution_count": 4,
   "metadata": {},
   "outputs": [
    {
     "name": "stdout",
     "output_type": "stream",
     "text": [
      "(2490, 5)\n"
     ]
    },
    {
     "data": {
      "text/html": [
       "<div>\n",
       "<style scoped>\n",
       "    .dataframe tbody tr th:only-of-type {\n",
       "        vertical-align: middle;\n",
       "    }\n",
       "\n",
       "    .dataframe tbody tr th {\n",
       "        vertical-align: top;\n",
       "    }\n",
       "\n",
       "    .dataframe thead th {\n",
       "        text-align: right;\n",
       "    }\n",
       "</style>\n",
       "<table border=\"1\" class=\"dataframe\">\n",
       "  <thead>\n",
       "    <tr style=\"text-align: right;\">\n",
       "      <th></th>\n",
       "      <th>Pro_Name</th>\n",
       "      <th>Pro_Code</th>\n",
       "      <th>Bgy_Name</th>\n",
       "      <th>Bgy_Code</th>\n",
       "      <th>geometry</th>\n",
       "    </tr>\n",
       "  </thead>\n",
       "  <tbody>\n",
       "    <tr>\n",
       "      <th>0</th>\n",
       "      <td>Sulu</td>\n",
       "      <td>PH156600000</td>\n",
       "      <td>Mamanok</td>\n",
       "      <td>PH156618008</td>\n",
       "      <td>MULTIPOLYGON (((198187.339 622969.886, 198189....</td>\n",
       "    </tr>\n",
       "    <tr>\n",
       "      <th>1</th>\n",
       "      <td>Sulu</td>\n",
       "      <td>PH156600000</td>\n",
       "      <td>Suang Bunah</td>\n",
       "      <td>PH156608016</td>\n",
       "      <td>MULTIPOLYGON (((164555.687 649030.520, 164556....</td>\n",
       "    </tr>\n",
       "    <tr>\n",
       "      <th>2</th>\n",
       "      <td>Sulu</td>\n",
       "      <td>PH156600000</td>\n",
       "      <td>Alu Bunah</td>\n",
       "      <td>PH156608001</td>\n",
       "      <td>MULTIPOLYGON (((215106.818 681890.876, 215102....</td>\n",
       "    </tr>\n",
       "    <tr>\n",
       "      <th>3</th>\n",
       "      <td>Maguindanao</td>\n",
       "      <td>PH153800000</td>\n",
       "      <td>Pagatin (Pagatin I)</td>\n",
       "      <td>PH153837016</td>\n",
       "      <td>POLYGON ((665423.631 771177.541, 666079.572 77...</td>\n",
       "    </tr>\n",
       "    <tr>\n",
       "      <th>4</th>\n",
       "      <td>Basilan</td>\n",
       "      <td>PH150700000</td>\n",
       "      <td>Balanting</td>\n",
       "      <td>PH150713002</td>\n",
       "      <td>MULTIPOLYGON (((393459.300 700415.082, 393450....</td>\n",
       "    </tr>\n",
       "  </tbody>\n",
       "</table>\n",
       "</div>"
      ],
      "text/plain": [
       "      Pro_Name     Pro_Code             Bgy_Name     Bgy_Code  \\\n",
       "0         Sulu  PH156600000              Mamanok  PH156618008   \n",
       "1         Sulu  PH156600000          Suang Bunah  PH156608016   \n",
       "2         Sulu  PH156600000            Alu Bunah  PH156608001   \n",
       "3  Maguindanao  PH153800000  Pagatin (Pagatin I)  PH153837016   \n",
       "4      Basilan  PH150700000            Balanting  PH150713002   \n",
       "\n",
       "                                            geometry  \n",
       "0  MULTIPOLYGON (((198187.339 622969.886, 198189....  \n",
       "1  MULTIPOLYGON (((164555.687 649030.520, 164556....  \n",
       "2  MULTIPOLYGON (((215106.818 681890.876, 215102....  \n",
       "3  POLYGON ((665423.631 771177.541, 666079.572 77...  \n",
       "4  MULTIPOLYGON (((393459.300 700415.082, 393450....  "
      ]
     },
     "execution_count": 4,
     "metadata": {},
     "output_type": "execute_result"
    }
   ],
   "source": [
    "bgy_gdf = gpd.read_file('geodata/AdministrativeBoundariesARMMBarangaysPSA2016.shp')\n",
    "keep_cols = ['Pro_Name','Pro_Code','Bgy_Name','Bgy_Code','geometry']\n",
    "bgy_gdf = bgy_gdf[keep_cols]\n",
    "bgy_gdf['Pro_Name']=bgy_gdf['Pro_Name'].str.title()\n",
    "print(bgy_gdf.shape)\n",
    "bgy_gdf.head()"
   ]
  },
  {
   "cell_type": "code",
   "execution_count": 5,
   "metadata": {},
   "outputs": [
    {
     "data": {
      "text/html": [
       "<div>\n",
       "<style scoped>\n",
       "    .dataframe tbody tr th:only-of-type {\n",
       "        vertical-align: middle;\n",
       "    }\n",
       "\n",
       "    .dataframe tbody tr th {\n",
       "        vertical-align: top;\n",
       "    }\n",
       "\n",
       "    .dataframe thead th {\n",
       "        text-align: right;\n",
       "    }\n",
       "</style>\n",
       "<table border=\"1\" class=\"dataframe\">\n",
       "  <thead>\n",
       "    <tr style=\"text-align: right;\">\n",
       "      <th></th>\n",
       "      <th>Pro_Name</th>\n",
       "      <th>Pro_Code</th>\n",
       "      <th>Bgy_Name</th>\n",
       "      <th>Bgy_Code</th>\n",
       "      <th>geometry</th>\n",
       "      <th>Pop2015</th>\n",
       "    </tr>\n",
       "  </thead>\n",
       "  <tbody>\n",
       "    <tr>\n",
       "      <th>0</th>\n",
       "      <td>Sulu</td>\n",
       "      <td>PH156600000</td>\n",
       "      <td>Mamanok</td>\n",
       "      <td>PH156618008</td>\n",
       "      <td>MULTIPOLYGON (((198187.339 622969.886, 198189....</td>\n",
       "      <td>747.0</td>\n",
       "    </tr>\n",
       "    <tr>\n",
       "      <th>1</th>\n",
       "      <td>Sulu</td>\n",
       "      <td>PH156600000</td>\n",
       "      <td>Suang Bunah</td>\n",
       "      <td>PH156608016</td>\n",
       "      <td>MULTIPOLYGON (((164555.687 649030.520, 164556....</td>\n",
       "      <td>1364.0</td>\n",
       "    </tr>\n",
       "    <tr>\n",
       "      <th>2</th>\n",
       "      <td>Sulu</td>\n",
       "      <td>PH156600000</td>\n",
       "      <td>Alu Bunah</td>\n",
       "      <td>PH156608001</td>\n",
       "      <td>MULTIPOLYGON (((215106.818 681890.876, 215102....</td>\n",
       "      <td>770.0</td>\n",
       "    </tr>\n",
       "    <tr>\n",
       "      <th>3</th>\n",
       "      <td>Maguindanao</td>\n",
       "      <td>PH153800000</td>\n",
       "      <td>Pagatin (Pagatin I)</td>\n",
       "      <td>PH153837016</td>\n",
       "      <td>POLYGON ((665423.631 771177.541, 666079.572 77...</td>\n",
       "      <td>1558.0</td>\n",
       "    </tr>\n",
       "    <tr>\n",
       "      <th>4</th>\n",
       "      <td>Basilan</td>\n",
       "      <td>PH150700000</td>\n",
       "      <td>Balanting</td>\n",
       "      <td>PH150713002</td>\n",
       "      <td>MULTIPOLYGON (((393459.300 700415.082, 393450....</td>\n",
       "      <td>1411.0</td>\n",
       "    </tr>\n",
       "  </tbody>\n",
       "</table>\n",
       "</div>"
      ],
      "text/plain": [
       "      Pro_Name     Pro_Code             Bgy_Name     Bgy_Code  \\\n",
       "0         Sulu  PH156600000              Mamanok  PH156618008   \n",
       "1         Sulu  PH156600000          Suang Bunah  PH156608016   \n",
       "2         Sulu  PH156600000            Alu Bunah  PH156608001   \n",
       "3  Maguindanao  PH153800000  Pagatin (Pagatin I)  PH153837016   \n",
       "4      Basilan  PH150700000            Balanting  PH150713002   \n",
       "\n",
       "                                            geometry  Pop2015  \n",
       "0  MULTIPOLYGON (((198187.339 622969.886, 198189....    747.0  \n",
       "1  MULTIPOLYGON (((164555.687 649030.520, 164556....   1364.0  \n",
       "2  MULTIPOLYGON (((215106.818 681890.876, 215102....    770.0  \n",
       "3  POLYGON ((665423.631 771177.541, 666079.572 77...   1558.0  \n",
       "4  MULTIPOLYGON (((393459.300 700415.082, 393450....   1411.0  "
      ]
     },
     "execution_count": 5,
     "metadata": {},
     "output_type": "execute_result"
    }
   ],
   "source": [
    "pop_gdf = bgy_gdf.merge(pop_df,how='left',on=['Bgy_Code'])\n",
    "pop_gdf['Pop2015'].fillna((pop_gdf['Pop2015'].mean()), inplace=True)\n",
    "pop_gdf.head()"
   ]
  },
  {
   "cell_type": "markdown",
   "metadata": {},
   "source": [
    "Spatial Weights"
   ]
  },
  {
   "cell_type": "code",
   "execution_count": 6,
   "metadata": {},
   "outputs": [
    {
     "name": "stdout",
     "output_type": "stream",
     "text": [
      "('WARNING: ', 0, ' is an island (no neighbors)')\n",
      "('WARNING: ', 7, ' is an island (no neighbors)')\n",
      "('WARNING: ', 14, ' is an island (no neighbors)')\n",
      "('WARNING: ', 60, ' is an island (no neighbors)')\n",
      "('WARNING: ', 62, ' is an island (no neighbors)')\n",
      "('WARNING: ', 79, ' is an island (no neighbors)')\n",
      "('WARNING: ', 80, ' is an island (no neighbors)')\n",
      "('WARNING: ', 82, ' is an island (no neighbors)')\n",
      "('WARNING: ', 97, ' is an island (no neighbors)')\n",
      "('WARNING: ', 104, ' is an island (no neighbors)')\n",
      "('WARNING: ', 124, ' is an island (no neighbors)')\n",
      "('WARNING: ', 230, ' is an island (no neighbors)')\n",
      "('WARNING: ', 336, ' is an island (no neighbors)')\n",
      "('WARNING: ', 337, ' is an island (no neighbors)')\n",
      "('WARNING: ', 345, ' is an island (no neighbors)')\n",
      "('WARNING: ', 390, ' is an island (no neighbors)')\n",
      "('WARNING: ', 391, ' is an island (no neighbors)')\n",
      "('WARNING: ', 392, ' is an island (no neighbors)')\n",
      "('WARNING: ', 397, ' is an island (no neighbors)')\n",
      "('WARNING: ', 478, ' is an island (no neighbors)')\n",
      "('WARNING: ', 491, ' is an island (no neighbors)')\n",
      "('WARNING: ', 618, ' is an island (no neighbors)')\n",
      "('WARNING: ', 636, ' is an island (no neighbors)')\n",
      "('WARNING: ', 685, ' is an island (no neighbors)')\n",
      "('WARNING: ', 717, ' is an island (no neighbors)')\n",
      "('WARNING: ', 738, ' is an island (no neighbors)')\n",
      "('WARNING: ', 749, ' is an island (no neighbors)')\n",
      "('WARNING: ', 771, ' is an island (no neighbors)')\n",
      "('WARNING: ', 772, ' is an island (no neighbors)')\n",
      "('WARNING: ', 775, ' is an island (no neighbors)')\n",
      "('WARNING: ', 776, ' is an island (no neighbors)')\n",
      "('WARNING: ', 780, ' is an island (no neighbors)')\n",
      "('WARNING: ', 781, ' is an island (no neighbors)')\n",
      "('WARNING: ', 892, ' is an island (no neighbors)')\n",
      "('WARNING: ', 957, ' is an island (no neighbors)')\n",
      "('WARNING: ', 1021, ' is an island (no neighbors)')\n"
     ]
    }
   ],
   "source": [
    "wq =  lps.weights.Queen.from_dataframe(pop_gdf)\n",
    "wq.transform = 'r'"
   ]
  },
  {
   "cell_type": "code",
   "execution_count": 7,
   "metadata": {},
   "outputs": [
    {
     "data": {
      "text/html": [
       "<div>\n",
       "<style scoped>\n",
       "    .dataframe tbody tr th:only-of-type {\n",
       "        vertical-align: middle;\n",
       "    }\n",
       "\n",
       "    .dataframe tbody tr th {\n",
       "        vertical-align: top;\n",
       "    }\n",
       "\n",
       "    .dataframe thead th {\n",
       "        text-align: right;\n",
       "    }\n",
       "</style>\n",
       "<table border=\"1\" class=\"dataframe\">\n",
       "  <thead>\n",
       "    <tr style=\"text-align: right;\">\n",
       "      <th></th>\n",
       "      <th>Pro_Name</th>\n",
       "      <th>Pro_Code</th>\n",
       "      <th>Bgy_Name</th>\n",
       "      <th>Bgy_Code</th>\n",
       "      <th>geometry</th>\n",
       "      <th>WithNeighbors</th>\n",
       "    </tr>\n",
       "  </thead>\n",
       "  <tbody>\n",
       "    <tr>\n",
       "      <th>0</th>\n",
       "      <td>Sulu</td>\n",
       "      <td>PH156600000</td>\n",
       "      <td>Mamanok</td>\n",
       "      <td>PH156618008</td>\n",
       "      <td>MULTIPOLYGON (((198187.339 622969.886, 198189....</td>\n",
       "      <td>0</td>\n",
       "    </tr>\n",
       "    <tr>\n",
       "      <th>1</th>\n",
       "      <td>Sulu</td>\n",
       "      <td>PH156600000</td>\n",
       "      <td>Suang Bunah</td>\n",
       "      <td>PH156608016</td>\n",
       "      <td>MULTIPOLYGON (((164555.687 649030.520, 164556....</td>\n",
       "      <td>1</td>\n",
       "    </tr>\n",
       "    <tr>\n",
       "      <th>2</th>\n",
       "      <td>Sulu</td>\n",
       "      <td>PH156600000</td>\n",
       "      <td>Alu Bunah</td>\n",
       "      <td>PH156608001</td>\n",
       "      <td>MULTIPOLYGON (((215106.818 681890.876, 215102....</td>\n",
       "      <td>1</td>\n",
       "    </tr>\n",
       "    <tr>\n",
       "      <th>3</th>\n",
       "      <td>Maguindanao</td>\n",
       "      <td>PH153800000</td>\n",
       "      <td>Pagatin (Pagatin I)</td>\n",
       "      <td>PH153837016</td>\n",
       "      <td>POLYGON ((665423.631 771177.541, 666079.572 77...</td>\n",
       "      <td>1</td>\n",
       "    </tr>\n",
       "    <tr>\n",
       "      <th>4</th>\n",
       "      <td>Basilan</td>\n",
       "      <td>PH150700000</td>\n",
       "      <td>Balanting</td>\n",
       "      <td>PH150713002</td>\n",
       "      <td>MULTIPOLYGON (((393459.300 700415.082, 393450....</td>\n",
       "      <td>1</td>\n",
       "    </tr>\n",
       "  </tbody>\n",
       "</table>\n",
       "</div>"
      ],
      "text/plain": [
       "      Pro_Name     Pro_Code             Bgy_Name     Bgy_Code  \\\n",
       "0         Sulu  PH156600000              Mamanok  PH156618008   \n",
       "1         Sulu  PH156600000          Suang Bunah  PH156608016   \n",
       "2         Sulu  PH156600000            Alu Bunah  PH156608001   \n",
       "3  Maguindanao  PH153800000  Pagatin (Pagatin I)  PH153837016   \n",
       "4      Basilan  PH150700000            Balanting  PH150713002   \n",
       "\n",
       "                                            geometry  WithNeighbors  \n",
       "0  MULTIPOLYGON (((198187.339 622969.886, 198189....              0  \n",
       "1  MULTIPOLYGON (((164555.687 649030.520, 164556....              1  \n",
       "2  MULTIPOLYGON (((215106.818 681890.876, 215102....              1  \n",
       "3  POLYGON ((665423.631 771177.541, 666079.572 77...              1  \n",
       "4  MULTIPOLYGON (((393459.300 700415.082, 393450....              1  "
      ]
     },
     "execution_count": 7,
     "metadata": {},
     "output_type": "execute_result"
    }
   ],
   "source": [
    "bgy_gdf['WithNeighbors'] = [1 if len(wq[index])>0 else 0 for index in wq.neighbors]\n",
    "bgy_gdf.head()"
   ]
  },
  {
   "cell_type": "markdown",
   "metadata": {},
   "source": [
    "Global Spatial Autocorrelation"
   ]
  },
  {
   "cell_type": "code",
   "execution_count": 8,
   "metadata": {},
   "outputs": [
    {
     "data": {
      "text/plain": [
       "(0.486747869230573, 0.001)"
      ]
     },
     "execution_count": 8,
     "metadata": {},
     "output_type": "execute_result"
    }
   ],
   "source": [
    "y = pop_gdf['Pop2015']\n",
    "mi = esda.moran.Moran(y, wq)\n",
    "mi.I,mi.p_sim"
   ]
  },
  {
   "cell_type": "markdown",
   "metadata": {},
   "source": [
    "Local Autocorrelation"
   ]
  },
  {
   "cell_type": "code",
   "execution_count": 9,
   "metadata": {},
   "outputs": [
    {
     "data": {
      "image/png": "[encoded data removed]",
      "text/plain": [
       "<Figure size 648x648 with 1 Axes>"
      ]
     },
     "metadata": {
      "needs_background": "light"
     },
     "output_type": "display_data"
    }
   ],
   "source": [
    "y = pop_gdf['Pop2015']\n",
    "lag_val = lps.weights.lag_spatial(wq, y)\n",
    "moran_scatterplot(y,lag_val)"
   ]
  },
  {
   "cell_type": "code",
   "execution_count": 10,
   "metadata": {},
   "outputs": [],
   "source": [
    "spots = calculate_cluster(y,wq,bgy_gdf['WithNeighbors'])\n",
    "spot_labels = [ '0 ns', '1 hot spot', '2 low outlier', '3 cold spot', '4 high outlier']\n",
    "labels = [spot_labels[i] for i in spots]"
   ]
  },
  {
   "cell_type": "code",
   "execution_count": 11,
   "metadata": {
    "scrolled": false
   },
   "outputs": [
    {
     "data": {
      "image/png": "[encoded data removed]",
      "text/plain": [
       "<Figure size 648x648 with 1 Axes>"
      ]
     },
     "metadata": {
      "needs_background": "light"
     },
     "output_type": "display_data"
    }
   ],
   "source": [
    "plot_cluster_map(bgy_gdf)"
   ]
  }
 ],
 "metadata": {
  "kernelspec": {
   "display_name": "Python 3",
   "language": "python",
   "name": "python3"
  },
  "language_info": {
   "codemirror_mode": {
    "name": "ipython",
    "version": 3
   },
   "file_extension": ".py",
   "mimetype": "text/x-python",
   "name": "python",
   "nbconvert_exporter": "python",
   "pygments_lexer": "ipython3",
   "version": "3.6.8"
  }
 },
 "nbformat": 4,
 "nbformat_minor": 2
}
